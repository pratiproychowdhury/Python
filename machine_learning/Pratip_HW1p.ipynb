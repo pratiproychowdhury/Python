{
  "nbformat": 4,
  "nbformat_minor": 0,
  "metadata": {
    "colab": {
      "name": "Pratip-HW1p.ipynb",
      "provenance": [],
      "collapsed_sections": []
    },
    "kernelspec": {
      "name": "python3",
      "display_name": "Python 3"
    }
  },
  "cells": [
    {
      "cell_type": "code",
      "metadata": {
        "id": "YpNtLC00EyKt",
        "colab_type": "code",
        "colab": {}
      },
      "source": [
        "import numpy as np\n",
        "import pandas as pd\n",
        "import matplotlib.pyplot as plt \n",
        "from sklearn.model_selection import cross_val_score, train_test_split\n",
        "from sklearn.metrics import accuracy_score\n",
        "from sklearn import tree\n",
        "from sklearn import ensemble\n",
        "from sklearn import svm\n",
        "#from sklearn.svm import SVC\n",
        "from sklearn.tree import DecisionTreeClassifier\n",
        "from sklearn.ensemble import RandomForestClassifier\n",
        "# Import Boston Data set:\n",
        "from sklearn.datasets import load_boston"
      ],
      "execution_count": 0,
      "outputs": []
    },
    {
      "cell_type": "markdown",
      "metadata": {
        "id": "oU6VrJk7DUTI",
        "colab_type": "text"
      },
      "source": [
        "(a) Use the Boston data set from Homework 0 to create a\n",
        "          training set. Recall the 'label' of each point in this data set is\n",
        "          the target value, namely the median value of owner occupied\n",
        "          homes. Let $M$ be the average value of the target value over\n",
        "          the entire data set.  Compute $M$."
      ]
    },
    {
      "cell_type": "code",
      "metadata": {
        "id": "BvTu2X4kDaDR",
        "colab_type": "code",
        "outputId": "8704d52e-578a-4f91-a506-1a15a7c8eccd",
        "colab": {
          "base_uri": "https://localhost:8080/",
          "height": 34
        }
      },
      "source": [
        "boston = load_boston()\n",
        "boston.keys()\n",
        "boston.feature_names\n",
        "boston.DESCR\n",
        "pandadata = pd.read_csv('/usr/local/lib/python3.6/dist-packages/sklearn/datasets/data/boston_house_prices.csv', skiprows=1 )\n",
        "prices = pandadata['MEDV']\n",
        "M = prices.sum() / prices.size\n",
        "M"
      ],
      "execution_count": 5,
      "outputs": [
        {
          "output_type": "execute_result",
          "data": {
            "text/plain": [
              "22.532806324110677"
            ]
          },
          "metadata": {
            "tags": []
          },
          "execution_count": 5
        }
      ]
    },
    {
      "cell_type": "markdown",
      "metadata": {
        "id": "WfefIZXeDalR",
        "colab_type": "text"
      },
      "source": [
        "(b) The goal is to build a decision tree that, based\n",
        "          on the other features in the set, predicts whether the\n",
        "          target value will be greater than or equal to $M$ (or less\n",
        "          than $M$).  So, this is a classification problem.   Using\n",
        "          any tree-based methods in the scikit-learn library, build a\n",
        "          decision tree and report its error using 10-fold cross\n",
        "          accuracy.  For full credit your cross-validated accuracy\n",
        "          must be at least $70\\%$.  Vary the depth of your\n",
        "          decision tree and plot its cross-validated accuracy (as a\n",
        "          function of the depth). Please use depth = $1, 2, \\dots, 10$."
      ]
    },
    {
      "cell_type": "code",
      "metadata": {
        "id": "7u6PxTyGDiSu",
        "colab_type": "code",
        "colab": {}
      },
      "source": [
        "# Prepare data for calculations\n",
        "pandadata\n",
        "X = pandadata[['CRIM', 'ZN', 'INDUS', 'CHAS', 'NOX',\t'RM',\t'AGE',\t'DIS',\t'RAD',\t'TAX',\t'PTRATIO',\t'B',\t'LSTAT']]\n",
        "Y = pandadata['MEDV']\n",
        "is_greater = Y.apply(lambda val: val > M) # Is necessary to transform continous target values to discreet\n",
        "\n",
        "def average(lst): \n",
        "    return sum(lst) / len(lst)\n",
        "\n",
        "#cl_continuous = svm.SVR(gamma=0.001, C=100.)     # Not being used!\n",
        "#cl_continuous.fit(X, Y)"
      ],
      "execution_count": 0,
      "outputs": []
    },
    {
      "cell_type": "code",
      "metadata": {
        "id": "SfQz86n6LV5C",
        "colab_type": "code",
        "colab": {
          "base_uri": "https://localhost:8080/",
          "height": 435
        },
        "outputId": "6ac35c05-bc68-43bd-d135-d5aaa71d9632"
      },
      "source": [
        "# Vary depth of tree from 1 - 10 and plot cross-validated accuracy using 10-fold cross accuracy\n",
        "for depth in range(1, 11):\n",
        "    cltree = tree.DecisionTreeClassifier(criterion=\"gini\", max_depth=depth)\n",
        "    cltree = cltree.fit(X, is_greater)\n",
        "    cross_validation_scores = cross_val_score(cltree, X, is_greater, cv=10)    # returns array with result of each run of cross-validation\n",
        "    cross_scores_average = average(cross_validation_scores)                    # calculate the average result from cross-validation array\n",
        "    print('Tree depth %d   Average of cross-validation scores = %f' \n",
        "          % (depth, cross_scores_average))     \n",
        "    plt.plot(depth, cross_scores_average.item(), 'ro', scalex=True, scaley=True)\n",
        "\n",
        "plt.show()"
      ],
      "execution_count": 67,
      "outputs": [
        {
          "output_type": "stream",
          "text": [
            "Tree depth 1   Average of cross-validation scores = 0.796902\n",
            "Tree depth 2   Average of cross-validation scores = 0.826196\n",
            "Tree depth 3   Average of cross-validation scores = 0.816549\n",
            "Tree depth 4   Average of cross-validation scores = 0.775059\n",
            "Tree depth 5   Average of cross-validation scores = 0.781020\n",
            "Tree depth 6   Average of cross-validation scores = 0.771255\n",
            "Tree depth 7   Average of cross-validation scores = 0.755569\n",
            "Tree depth 8   Average of cross-validation scores = 0.733804\n",
            "Tree depth 9   Average of cross-validation scores = 0.741647\n",
            "Tree depth 10   Average of cross-validation scores = 0.735843\n"
          ],
          "name": "stdout"
        },
        {
          "output_type": "display_data",
          "data": {
            "image/png": "[encoded data removed]",
            "text/plain": [
              "<Figure size 432x288 with 1 Axes>"
            ]
          },
          "metadata": {
            "tags": []
          }
        }
      ]
    },
    {
      "cell_type": "markdown",
      "metadata": {
        "id": "9yaI9-_9DikY",
        "colab_type": "text"
      },
      "source": [
        "(c) Now try the random forest classifier of the\n",
        "          scikit-learn library and use the best depth you get from (b) as\n",
        "          $max\\_depth$. Vary the number of trees in the forest via the parameter\n",
        "          $n\\_estimators$ and plot its cross-validated accuracy (use $n\\_estimators = 1, 2, \\dots, 20$). Do you\n",
        "          see an improvement using random forests versus using a single tree (Note: set $n\\_estimators=1$ to see the result for a single tree instead of using the result in (b))?"
      ]
    },
    {
      "cell_type": "code",
      "metadata": {
        "id": "Gl5xh8z7Dmz4",
        "colab_type": "code",
        "colab": {
          "base_uri": "https://localhost:8080/",
          "height": 622
        },
        "outputId": "f397ac50-2584-4089-f837-8bf843736e20"
      },
      "source": [
        "# The best score from Part 2 was observed with depth = 2\n",
        "# Using random forest classifier\n",
        "clforest = RandomForestClassifier(max_depth=10, random_state=0, n_estimators=1)\n",
        "clforest.fit(X, is_greater)\n",
        "cross_single_score = cross_val_score(cltree, X, is_greater, cv=10)\n",
        "cross_single_score_average = average(cross_single_score)\n",
        "print('Single tree score from Part B with 1 estimator: %f' % (cross_single_score_average))\n",
        "\n",
        "# Vary estimators from 1 - 20 and plot cross-validated accuracy using 10-fold cross accuracy\n",
        "for estimators in range(1, 21):\n",
        "    clforest = RandomForestClassifier(max_depth=2, random_state=0, n_estimators=estimators)\n",
        "    clforest.fit(X, is_greater)\n",
        "    forest_cross_scores = cross_val_score(clforest, X, is_greater, cv=10)\n",
        "    forest_cross_scores_average = average(forest_cross_scores)\n",
        "    print('Number of extimators %d   Average of cross-validation scores = %f' \n",
        "          % (estimators, forest_cross_scores_average))\n",
        "    plt.plot(estimators, forest_cross_scores_average.item(), 'ro', scalex=True, scaley=True)\n",
        "\n",
        "plt.show()"
      ],
      "execution_count": 68,
      "outputs": [
        {
          "output_type": "stream",
          "text": [
            "Single tree score from Part B with 1 estimator: 0.723922\n",
            "Number of extimators 1   Average of cross-validation scores = 0.694627\n",
            "Number of extimators 2   Average of cross-validation scores = 0.676784\n",
            "Number of extimators 3   Average of cross-validation scores = 0.718431\n",
            "Number of extimators 4   Average of cross-validation scores = 0.745961\n",
            "Number of extimators 5   Average of cross-validation scores = 0.747961\n",
            "Number of extimators 6   Average of cross-validation scores = 0.755804\n",
            "Number of extimators 7   Average of cross-validation scores = 0.751882\n",
            "Number of extimators 8   Average of cross-validation scores = 0.785216\n",
            "Number of extimators 9   Average of cross-validation scores = 0.796980\n",
            "Number of extimators 10   Average of cross-validation scores = 0.824392\n",
            "Number of extimators 11   Average of cross-validation scores = 0.793020\n",
            "Number of extimators 12   Average of cross-validation scores = 0.789059\n",
            "Number of extimators 13   Average of cross-validation scores = 0.781216\n",
            "Number of extimators 14   Average of cross-validation scores = 0.779294\n",
            "Number of extimators 15   Average of cross-validation scores = 0.777333\n",
            "Number of extimators 16   Average of cross-validation scores = 0.791098\n",
            "Number of extimators 17   Average of cross-validation scores = 0.785216\n",
            "Number of extimators 18   Average of cross-validation scores = 0.824471\n",
            "Number of extimators 19   Average of cross-validation scores = 0.781333\n",
            "Number of extimators 20   Average of cross-validation scores = 0.775412\n"
          ],
          "name": "stdout"
        },
        {
          "output_type": "display_data",
          "data": {
            "image/png": "[encoded data removed]",
            "text/plain": [
              "<Figure size 432x288 with 1 Axes>"
            ]
          },
          "metadata": {
            "tags": []
          }
        }
      ]
    },
    {
      "cell_type": "markdown",
      "metadata": {
        "id": "H3IxTe8omnhT",
        "colab_type": "text"
      },
      "source": [
        "**Question: Do you see an improvement using random forests versus using a\n",
        "single tree (Note: set n estimators = 1 to see the result for a single tree instead of using\n",
        "the result in (b))**\n",
        "\n",
        "*I see the results using a random forest vary between less accurate to more accurate than using a single tree depending on the number of estimators used, therefore I cannot make any conclusive affimation regarding any improvement from using a random forest. The number of estimators used also does not seem to have neither a direct or inverse effect on the scores.*"
      ]
    },
    {
      "cell_type": "markdown",
      "metadata": {
        "id": "FVtGJXo-DnS5",
        "colab_type": "text"
      },
      "source": [
        "(d) Using the method for building a decision tree you\n",
        "          used in part (b), build a tree but randomly hold out a\n",
        "          $.2$,$.4$,$.6$, and $.8$ fraction of the data set (so you\n",
        "          will need to build 4 different trees for each depth value).  Report the test\n",
        "          error (the error on the held-out set) for each decision\n",
        "          tree.  Plot the error."
      ]
    },
    {
      "cell_type": "code",
      "metadata": {
        "id": "Q1c3__gSDvEp",
        "colab_type": "code",
        "outputId": "7fbaa59d-78a3-455f-c527-002d91486c30",
        "colab": {
          "base_uri": "https://localhost:8080/",
          "height": 334
        }
      },
      "source": [
        "# For validation with hold-out\n",
        "held_out_fractions = [0.2, 0.4, 0.6, 0.8]\n",
        "for held_out in held_out_fractions:\n",
        "    X_train, X_test, Y_train, Y_test = train_test_split(X, Y, test_size=held_out, random_state=0)\n",
        "    is_greater_train = Y_train.apply(lambda val: val > M)\n",
        "    is_greater_test = Y_test.apply(lambda val: val > M)\n",
        "\n",
        "    cltree = tree.DecisionTreeClassifier(criterion=\"gini\", max_depth=10)\n",
        "    cltree = cltree.fit(X_train, is_greater_train)\n",
        "    cross_holdout_scores = cross_val_score(cltree, X_test, is_greater_test, cv=10)\n",
        "    average_cross_holdout_scores = average(cross_holdout_scores)\n",
        "    error = 1 - average_cross_holdout_scores\n",
        "    print('held out fraction %.1f   final_score = %f    error = %f' % (held_out, average_cross_holdout_scores, error))\n",
        "    plt.plot(held_out, error, 'ro', scalex=True, scaley=True)\n",
        "\n",
        "plt.show()"
      ],
      "execution_count": 70,
      "outputs": [
        {
          "output_type": "stream",
          "text": [
            "held out fraction 0.2   final_score = 0.703636    error = 0.296364\n",
            "held out fraction 0.4   final_score = 0.764286    error = 0.235714\n",
            "held out fraction 0.6   final_score = 0.809892    error = 0.190108\n",
            "held out fraction 0.8   final_score = 0.812805    error = 0.187195\n"
          ],
          "name": "stdout"
        },
        {
          "output_type": "display_data",
          "data": {
            "image/png": "[encoded data removed]",
            "text/plain": [
              "<Figure size 432x288 with 1 Axes>"
            ]
          },
          "metadata": {
            "tags": []
          }
        }
      ]
    }
  ]
}